{
 "cells": [
  {
   "cell_type": "code",
   "execution_count": 10,
   "metadata": {},
   "outputs": [],
   "source": [
    "import requests\n",
    "import html"
   ]
  },
  {
   "cell_type": "code",
   "execution_count": 3,
   "metadata": {},
   "outputs": [],
   "source": [
    "res = requests.get('https://app.simplenote.com/p/21bDXP')"
   ]
  },
  {
   "cell_type": "code",
   "execution_count": 5,
   "metadata": {},
   "outputs": [
    {
     "name": "stdout",
     "output_type": "stream",
     "text": [
      "b'<!DOCTYPE html>\\n<html lang=\"en\">\\n\\n<head>\\n  <link rel=\"manifest\" href=\"/manifest.json\">\\n  <meta charset=\"utf-8\" />\\n  <meta http-equiv=\"X-UA-Compatible\" content=\"IE=edge, chrome=1\" />\\n  <meta name=\"viewport\" content=\"width=device-width,minimum-scale=1,initial-scale=1\" />\\n  <meta name=\"theme-color\" content=\"#4895d9\" />\\n  <meta name=\"referrer\" content=\"origin\" />\\n  <title>How to set up Heroku SSL (HTTPS) with Google Domains in 2019 | D U N K</title>\\n  <link href=\"https://fonts.googleapis.com/css?family=Noto+Serif\" rel=\"stylesheet\" />\\n  <link rel=\"shortcut icon\" type=\"image/x-icon\" sizes=\"16x16 32x32 64x64\" href=\"/favicon.ico\" />\\n  <link href=\"/css/published.css?t=423595803505346630\" media=\"all\" rel=\"stylesheet\" type=\"text/css\" />\\n  <link rel=\"canonical\" href=\"https://app.simplenote.com/p/21bDXP\" />\\n</head>\\n\\n<body>\\n  <div class=\"published-wrap no-ad-size\">\\n    <div class=\"wrapper\">\\n      <div class=\"app\">\\n        <div class=\"note note-detail-markdown\">\\n           \\n          <p>How to set up Heroku SSL (HTTPS) with Google Domains in 2019 | D U N K</p>\\n\\n<h2>February 16, 2019</h2>\\n\\n<h1>How to set up Heroku SSL (HTTPS) with Google Domains in 2019</h1>\\n\\n<p>Ugh. This wastes time every time I run into it. It\\xe2\\x80\\x99s so much easier with AWS, and there\\xe2\\x80\\x99s terrible and conflicting documentation out on the web about Heroku, Google Domains and Heroku\\xe2\\x80\\x99s ACM for SSL. IF you do everything right, it\\xe2\\x80\\x99s actually very simple. So I\\xe2\\x80\\x99ll document how it worked for me in 2019 here as much for me as for anyone else.</p>\\n\\n<p>I strongly reference <a href=\"https://medium.com/@david.gagne/set-up-a-custom-domain-for-your-heroku-application-using-google-domains-guaranteed-a2b2ff934f97\" rel=\"nofollow\">David Gagne\\xe2\\x80\\x99s article</a> here, which is now sometimes behind a paywall on Medium. It\\xe2\\x80\\x99s actually only 3 steps.</p>\\n\\n<ol>\\n<li><strong>Heroku, in your app &gt; Settings &gt; Add your domain:</strong> Add www.[your-domain].com (Note: www is KEY!) to your app and copy the [DNS Target] it gives you.</li>\\n<li><strong>Google Domains &gt; DNS &gt; Synthetic Records &gt; Add a subdomain:</strong> @ to Subdomain, add <a href=\"https://www.[your-domain].com/\" rel=\"nofollow\">https://www.[your-domain].com</a> to the next field. Forward the path (so that [your-domain].com/about.html forwards to https://www.[your-domain].com/about.html), and leave the SSL Enabled.</li>\\n<li><strong>Google Domains &gt; DNS &gt; Custom Resource Records &gt; Add a CNAME:</strong> www, CNAME, [DNS Target]</li>\\n</ol>\\n\\n<p>Boom. Wait a couple minutes, and you\\xe2\\x80\\x99re done.</p>\\n\\n<pre><code>heroku certs:auto:refresh\\n\\n</code></pre>\\n\\n<p>In Terminal to refresh, and check the Heroku Dashboard to confirm it\\xe2\\x80\\x99s working.</p>\\n\\n<p>I install <a href=\"https://github.com/nodenica/node-heroku-ssl-redirect\" rel=\"nofollow\">heroku-ssl-redirect</a> for node to force HTTPS upgrades.</p>\\n\\n<p>Have a great year!</p>\\n\\n<p>PS: So does this work for simply [your-domain].com and not www.[your-domain].com as we were using in Step 1? No! Google Domains does not support ALIAS domains, and therefore in combination with Heroku does not support forwarding to the naked (aka. root aka. apex) domain. Sorry! This surprised me too :( <a href=\"https://help.heroku.com/NH44MODG/my-root-domain-isn-t-working-what-s-wrong\" rel=\"nofollow\">Source 1: Heroku Docs</a> <a href=\"https://stackoverflow.com/questions/43197176/how-to-set-up-ssl-for-naked-domain-from-google-domains-to-heroku\" rel=\"nofollow\">Source 2: StackOverflow</a></p>\\n\\n<h3>Similar articles:</h3>\\n\\n<ul>\\n<li><a href=\"https://nikodunk.com/startup-updates-3/\" rel=\"nofollow\">January 2019 Startup Update</a></li>\\n<li><a href=\"https://nikodunk.com/startup-updates-2/\" rel=\"nofollow\">December 2018 Startup Update</a></li>\\n<li><a href=\"https://nikodunk.com/startup-updates-1/\" rel=\"nofollow\">November 2018 Startup Update: Month 1</a></li>\\n<li><a href=\"https://nikodunk.com/accelerator/\" rel=\"nofollow\">Learnings: Building swissnex SF\\'s startup accelerator</a></li>\\n</ul>\\n\\n           \\n        </div>\\n        <!-- .note -->\\n\\n        \\n      </div>\\n      <!-- .app -->\\n    </div>\\n\\n     <div class=\"published-top\"><span class=\"logo\"><a href=\"http://simplenote.com\" title=\"Get Simplenote\"\\n          onclick=\"_gaq.push([\\'_trackEvent\\', \\'Link\\', \\'Click\\', \\'Published page footer link\\']);\">Published with\\n          Simplenote</a></span></div></div><!-- .published-wrap -->\\n\\n  <script type=\"text/javascript\">\\n    var _gaq = _gaq || [];\\n    _gaq.push([\"_setAccount\", \"UA-11500121-3\"]);\\n    _gaq.push([\"_trackPageview\", \"/publish\"]);\\n\\n    (function () {\\n      var ga = document.createElement(\"script\");\\n      ga.type = \"text/javascript\";\\n      ga.async = true;\\n      ga.src =\\n        (\"https:\" == document.location.protocol\\n          ? \"https://ssl\"\\n          : \"http://www\") + \".google-analytics.com/ga.js\";\\n      var s = document.getElementsByTagName(\"script\")[0];\\n      s.parentNode.insertBefore(ga, s);\\n    })();\\n  </script>\\n</body>\\n\\n</html>'\n"
     ]
    }
   ],
   "source": [
    "print(res.content)"
   ]
  }
 ],
 "metadata": {
  "kernelspec": {
   "display_name": "Python 3",
   "language": "python",
   "name": "python3"
  },
  "language_info": {
   "codemirror_mode": {
    "name": "ipython",
    "version": 3
   },
   "file_extension": ".py",
   "mimetype": "text/x-python",
   "name": "python",
   "nbconvert_exporter": "python",
   "pygments_lexer": "ipython3",
   "version": "3.7.4"
  }
 },
 "nbformat": 4,
 "nbformat_minor": 4
}
